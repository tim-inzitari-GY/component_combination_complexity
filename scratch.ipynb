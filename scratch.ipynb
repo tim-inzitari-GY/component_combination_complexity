{
 "cells": [
  {
   "cell_type": "code",
   "execution_count": null,
   "metadata": {
    "collapsed": true
   },
   "outputs": [],
   "source": []
  },
  {
   "cell_type": "code",
   "execution_count": 1,
   "outputs": [],
   "source": [
    "from Plant import Plant"
   ],
   "metadata": {
    "collapsed": false
   }
  },
  {
   "cell_type": "code",
   "execution_count": 2,
   "outputs": [
    {
     "name": "stdout",
     "output_type": "stream",
     "text": [
      "{'Lawton': <Plant.Plant object at 0x000001B324DD15A0>, 'Chile': <Plant.Plant object at 0x000001B324DD18A0>, 'Fayetteville': <Plant.Plant object at 0x000001B324DD0880>, 'Napanee': <Plant.Plant object at 0x000001B324DD2530>, 'SLP': <Plant.Plant object at 0x000001B324DD3C70>}\n"
     ]
    }
   ],
   "source": [
    "myPlants = {}\n",
    "myPlants['Lawton'] = Plant(18000000, 'Lawton')\n",
    "myPlants['Chile'] = Plant(7000000, \"Chile\")\n",
    "myPlants['Fayetteville'] = Plant(7000000, \"Fayetteville\")\n",
    "myPlants['Napanee'] = Plant(7000000, \"Napanee\")\n",
    "myPlants['SLP'] = Plant(7000000, \"SLP\")\n",
    "\n",
    "print(myPlants)"
   ],
   "metadata": {
    "collapsed": false
   }
  },
  {
   "cell_type": "code",
   "execution_count": null,
   "outputs": [],
   "source": [],
   "metadata": {
    "collapsed": false
   }
  }
 ],
 "metadata": {
  "kernelspec": {
   "display_name": "Python 3",
   "language": "python",
   "name": "python3"
  },
  "language_info": {
   "codemirror_mode": {
    "name": "ipython",
    "version": 2
   },
   "file_extension": ".py",
   "mimetype": "text/x-python",
   "name": "python",
   "nbconvert_exporter": "python",
   "pygments_lexer": "ipython2",
   "version": "2.7.6"
  }
 },
 "nbformat": 4,
 "nbformat_minor": 0
}
